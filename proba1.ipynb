{
 "cells": [
  {
   "cell_type": "code",
   "execution_count": 103,
   "metadata": {},
   "outputs": [],
   "source": [
    "import pandas as pd\n",
    "import numpy as np\n",
    "from sklearn.feature_selection import RFE\n",
    "from sklearn.linear_model import Lasso\n",
    "from sklearn.linear_model import LogisticRegression\n",
    "from sklearn.metrics import roc_auc_score"
   ]
  },
  {
   "cell_type": "markdown",
   "metadata": {},
   "source": [
    "### Segédfüggvények"
   ]
  },
  {
   "cell_type": "code",
   "execution_count": 104,
   "metadata": {},
   "outputs": [],
   "source": [
    "def limitalt_dummy_valtozo(indf, oszlop, limit, drop_last=True):\n",
    "    uj_valtozok = []\n",
    "    df = indf.copy()\n",
    "    egyedi_elemszam=df[oszlop].nunique()\n",
    "    if egyedi_elemszam <= limit and drop_last is True:\n",
    "        egyedi_elemszam = egyedi_elemszam - 1\n",
    "    tmp = df[oszlop].value_counts()[:limit]\n",
    "    for value in list(tmp.index):\n",
    "        def f(x):\n",
    "            if x == value:\n",
    "                return 1\n",
    "            else:\n",
    "                return 0\n",
    "        df[oszlop+'='+str(value)] = df[oszlop].apply(f)\n",
    "        uj_valtozok.append(oszlop + '=' + str(value))\n",
    "    return df, uj_valtozok"
   ]
  },
  {
   "cell_type": "code",
   "execution_count": 105,
   "metadata": {},
   "outputs": [],
   "source": [
    "def myxval(model,train_df,bemeno_valtozok,fold_num=3):\n",
    "    train_df['xval']=train_df['ID']%fold_num\n",
    "    auc_list=[]\n",
    "    for i in range(fold_num):\n",
    "        mini_train=train_df[train_df['xval']!=i].copy()\n",
    "        mini_test=train_df[train_df['xval']==i].copy()\n",
    "        model.fit(mini_train[bemeno_valtozok],mini_train['TARGET'])\n",
    "        mini_test['p1']=model.predict_proba(mini_test[bemeno_valtozok])[:,1]\n",
    "        auc=roc_auc_score(mini_test['TARGET'],mini_test['p1'])\n",
    "        auc_list.append(auc)\n",
    "    return np.mean(auc_list)"
   ]
  },
  {
   "cell_type": "code",
   "execution_count": 107,
   "metadata": {},
   "outputs": [],
   "source": [
    "from sklearn.metrics import roc_auc_score\n",
    "\n",
    "def myxval_multi(models,train_df,bemeno_valtozok,fold_num=3):\n",
    "    train_df['xval']=train_df['ID']%fold_num\n",
    "    auc_list=[]\n",
    "    for i in range(fold_num):\n",
    "        mini_train=train_df[train_df['xval']!=i].copy()\n",
    "        mini_test=train_df[train_df['xval']==i].copy()\n",
    "        predict_list = None\n",
    "        for model in models:\n",
    "            model.fit(mini_train[bemeno_valtozok],mini_train['TARGET'])\n",
    "            predictions=model.predict_proba(mini_test[bemeno_valtozok])[:,1]\n",
    "            predictions = predictions.reshape((1, len(predictions)))\n",
    "            if predict_list is None:\n",
    "                predict_list = predictions\n",
    "            else:\n",
    "                predict_list = np.concatenate([predict_list, predictions], axis=0)\n",
    "        mini_test['p1'] = np.mean(predict_list, axis=0)\n",
    "        auc=roc_auc_score(mini_test['TARGET'],mini_test['p1'])\n",
    "        auc_list.append(auc)\n",
    "    return np.mean(auc_list)"
   ]
  },
  {
   "cell_type": "markdown",
   "metadata": {},
   "source": [
    "### --------------------------------------------------------------------- ###"
   ]
  },
  {
   "cell_type": "code",
   "execution_count": 108,
   "metadata": {},
   "outputs": [
    {
     "name": "stderr",
     "output_type": "stream",
     "text": [
      "C:\\Programs\\miniconda\\envs\\dap2020_jupyter\\lib\\site-packages\\IPython\\core\\interactiveshell.py:3062: DtypeWarning: Columns (44,45) have mixed types.Specify dtype option on import or set low_memory=False.\n",
      "  has_raised = await self.run_ast_nodes(code_ast.body, cell_name,\n"
     ]
    }
   ],
   "source": [
    "train_data = pd.read_csv('./data/public_train.csv')\n",
    "test_data = pd.read_csv('./data/public_test.csv')"
   ]
  },
  {
   "cell_type": "code",
   "execution_count": 109,
   "metadata": {},
   "outputs": [],
   "source": [
    "# Train or test?\n",
    "train_data['train_or_test'] = 'train'\n",
    "test_data['train_or_test'] = 'test'"
   ]
  },
  {
   "cell_type": "code",
   "execution_count": 110,
   "metadata": {},
   "outputs": [],
   "source": [
    "df = pd.concat([train_data, test_data], sort=True)"
   ]
  },
  {
   "cell_type": "code",
   "execution_count": null,
   "metadata": {},
   "outputs": [],
   "source": []
  },
  {
   "cell_type": "code",
   "execution_count": 111,
   "metadata": {},
   "outputs": [],
   "source": [
    "# Hianyzo adatok kitoltese\n",
    "for att in df.columns:\n",
    "    if att==\"TARGET\":\n",
    "        pass\n",
    "    #amik nem számok (string értékek stb...)\n",
    "    elif df[att].dtype==\"object\": \n",
    "        #print(att)\n",
    "        df[att]=df[att].fillna(\"nincs_adat\")\n",
    "    else:\n",
    "        #test és train közös mediánja\n",
    "        #ha van benne NaN, akkor azzal töltötte volna fel, de ez nem jó, ezért kell a nanmedian függvény\n",
    "        #de nem a mediánra kéne itt kitölteni az fix!!!\n",
    "        #df[att]=df[att].fillna(0) ez is lehetne\n",
    "        df[att]=df[att].fillna(0)"
   ]
  },
  {
   "cell_type": "code",
   "execution_count": 112,
   "metadata": {},
   "outputs": [],
   "source": [
    "# float64 to int64\n",
    "for att in df.columns:\n",
    "    if att ==\"TARGET\":\n",
    "        pass\n",
    "    elif df[att].dtype == \"float64\":\n",
    "        df[att] = df[att].astype('int64')"
   ]
  },
  {
   "cell_type": "code",
   "execution_count": 113,
   "metadata": {},
   "outputs": [
    {
     "data": {
      "text/plain": [
       "Index(['AGE', 'AME_FLAG', 'APP_SUB_TYPE', 'BILL_AMOUNT_MONTH_1',\n",
       "       'BILL_AMOUNT_MONTH_2', 'BILL_AMOUNT_MONTH_3', 'BILL_AMOUNT_MONTH_4',\n",
       "       'BILL_AMOUNT_MONTH_5', 'BILL_AMOUNT_MONTH_6', 'BIRTH_CITY',\n",
       "       'BIRTH_STATE', 'CARS_FLAG', 'CONF_CITIZEN_CARD_NUM', 'CONF_TAX_STATUS',\n",
       "       'C_NAME_GIVEN', 'C_PRODUCT', 'DAY_OF_PAYMENT', 'EDU_LEVEL',\n",
       "       'EMAIL_FLAG', 'HOME_PHONE_FLAG', 'ID', 'L_BALANCE', 'MATE_PROF_CODE',\n",
       "       'MCARD_FLAG', 'MONTHS_IN_RES', 'M_IN_THE_JOB', 'M_STATUS', 'NAT',\n",
       "       'NUMBERO_OF_BANK_ACCOUNTS', 'NUMBER_OF_DEPENDANTS',\n",
       "       'NUMBER_OF_SPECIAL_BANK_ACCOUNTS', 'OCARDS_FLAG', 'OCC_TYPE',\n",
       "       'O_INCOMES', 'PAY_AMOUNT_MONTH_1', 'PAY_AMOUNT_MONTH_2',\n",
       "       'PAY_AMOUNT_MONTH_3', 'PAY_AMOUNT_MONTH_4', 'PAY_AMOUNT_MONTH_5',\n",
       "       'PAY_AMOUNT_MONTH_6', 'PAY_MONTH_0', 'PAY_MONTH_2', 'PAY_MONTH_3',\n",
       "       'PAY_MONTH_4', 'PAY_MONTH_5', 'PAY_MONTH_6', 'PROF_BOROUGH',\n",
       "       'PROF_CITY', 'PROF_CODE', 'PROF_PHONE_AREA_CODE', 'PROF_PHONE_GIVEN',\n",
       "       'PROF_STATE', 'PROF_ZIP', 'P_ADDRESS_TYPE', 'P_ASSETS_VALUE',\n",
       "       'P_MONTHLY_INCOME', 'RES_BOROUGH', 'RES_CITY', 'RES_PHONE_AREA_CODE',\n",
       "       'RES_STATE', 'RES_TYPE', 'RES_ZIP', 'SEX', 'S_FLAG', 'TARGET',\n",
       "       'VISA_FLAG', 'train_or_test'],\n",
       "      dtype='object')"
      ]
     },
     "execution_count": 113,
     "metadata": {},
     "output_type": "execute_result"
    }
   ],
   "source": [
    "df.columns"
   ]
  },
  {
   "cell_type": "code",
   "execution_count": 114,
   "metadata": {},
   "outputs": [],
   "source": [
    "bemeno_valtozok = ['AGE', 'AME_FLAG', 'APP_SUB_TYPE', 'BILL_AMOUNT_MONTH_1',\n",
    "       'BILL_AMOUNT_MONTH_2', 'BILL_AMOUNT_MONTH_3', 'BILL_AMOUNT_MONTH_4',\n",
    "       'BILL_AMOUNT_MONTH_5', 'BILL_AMOUNT_MONTH_6', 'CARS_FLAG', 'C_PRODUCT', 'DAY_OF_PAYMENT', 'EDU_LEVEL',\n",
    "       'EMAIL_FLAG', 'HOME_PHONE_FLAG', 'L_BALANCE', 'MATE_PROF_CODE',\n",
    "       'MCARD_FLAG', 'MONTHS_IN_RES', 'M_IN_THE_JOB', 'M_STATUS', 'NAT',\n",
    "       'NUMBERO_OF_BANK_ACCOUNTS', 'NUMBER_OF_DEPENDANTS',\n",
    "       'NUMBER_OF_SPECIAL_BANK_ACCOUNTS', 'OCARDS_FLAG', 'OCC_TYPE',\n",
    "       'O_INCOMES', 'PAY_AMOUNT_MONTH_1', 'PAY_AMOUNT_MONTH_2',\n",
    "       'PAY_AMOUNT_MONTH_3', 'PAY_AMOUNT_MONTH_4', 'PAY_AMOUNT_MONTH_5',\n",
    "       'PAY_AMOUNT_MONTH_6', 'PAY_MONTH_0', 'PAY_MONTH_2', 'PAY_MONTH_3',\n",
    "       'PAY_MONTH_4', 'PAY_MONTH_5', 'PAY_MONTH_6', 'PROF_BOROUGH', 'P_ADDRESS_TYPE', 'P_ASSETS_VALUE',\n",
    "       'P_MONTHLY_INCOME', 'RES_BOROUGH', 'RES_TYPE', 'SEX', 'S_FLAG',\n",
    "       'VISA_FLAG']"
   ]
  },
  {
   "cell_type": "code",
   "execution_count": 115,
   "metadata": {},
   "outputs": [],
   "source": [
    "object_valtozok = []\n",
    "uj_valtozok = []\n",
    "for att in bemeno_valtozok:\n",
    "    if df[att].dtype == 'object':\n",
    "        df, val = limitalt_dummy_valtozo(df, att, 6)\n",
    "        object_valtozok.append(att)\n",
    "        uj_valtozok.extend(val)"
   ]
  },
  {
   "cell_type": "code",
   "execution_count": 116,
   "metadata": {},
   "outputs": [],
   "source": [
    "bemeno_valtozok = bemeno_valtozok + uj_valtozok\n",
    "bemeno_valtozok = [val for val in bemeno_valtozok if val not in object_valtozok]"
   ]
  },
  {
   "cell_type": "code",
   "execution_count": 117,
   "metadata": {},
   "outputs": [
    {
     "data": {
      "text/plain": [
       "[dtype('int64'),\n",
       " dtype('int64'),\n",
       " dtype('int64'),\n",
       " dtype('int64'),\n",
       " dtype('int64'),\n",
       " dtype('int64'),\n",
       " dtype('int64'),\n",
       " dtype('int64'),\n",
       " dtype('int64'),\n",
       " dtype('int64'),\n",
       " dtype('int64'),\n",
       " dtype('int64'),\n",
       " dtype('int64'),\n",
       " dtype('int64'),\n",
       " dtype('int64'),\n",
       " dtype('int64'),\n",
       " dtype('int64'),\n",
       " dtype('int64'),\n",
       " dtype('int64'),\n",
       " dtype('int64'),\n",
       " dtype('int64'),\n",
       " dtype('int64'),\n",
       " dtype('int64'),\n",
       " dtype('int64'),\n",
       " dtype('int64'),\n",
       " dtype('int64'),\n",
       " dtype('int64'),\n",
       " dtype('int64'),\n",
       " dtype('int64'),\n",
       " dtype('int64'),\n",
       " dtype('int64'),\n",
       " dtype('int64'),\n",
       " dtype('int64'),\n",
       " dtype('int64'),\n",
       " dtype('int64'),\n",
       " dtype('int64'),\n",
       " dtype('int64'),\n",
       " dtype('int64'),\n",
       " dtype('int64'),\n",
       " dtype('int64'),\n",
       " dtype('int64'),\n",
       " dtype('int64'),\n",
       " dtype('int64'),\n",
       " dtype('int64'),\n",
       " dtype('int64'),\n",
       " dtype('int64'),\n",
       " dtype('int64'),\n",
       " dtype('int64'),\n",
       " dtype('int64'),\n",
       " dtype('int64'),\n",
       " dtype('int64'),\n",
       " dtype('int64'),\n",
       " dtype('int64'),\n",
       " dtype('int64'),\n",
       " dtype('int64'),\n",
       " dtype('int64'),\n",
       " dtype('int64'),\n",
       " dtype('int64'),\n",
       " dtype('int64'),\n",
       " dtype('int64'),\n",
       " dtype('int64'),\n",
       " dtype('int64'),\n",
       " dtype('int64'),\n",
       " dtype('int64'),\n",
       " dtype('int64')]"
      ]
     },
     "execution_count": 117,
     "metadata": {},
     "output_type": "execute_result"
    }
   ],
   "source": [
    "d = []\n",
    "for att in bemeno_valtozok:\n",
    "    d.append(df[att].dtype)\n",
    "d"
   ]
  },
  {
   "cell_type": "markdown",
   "metadata": {},
   "source": [
    "## Modellezés"
   ]
  },
  {
   "cell_type": "code",
   "execution_count": 118,
   "metadata": {},
   "outputs": [],
   "source": [
    "train_df = df[df['train_or_test'] == 'train'].copy()\n",
    "test_df = df[df['train_or_test'] == 'test'].copy()"
   ]
  },
  {
   "cell_type": "code",
   "execution_count": 119,
   "metadata": {},
   "outputs": [
    {
     "data": {
      "text/plain": [
       "Index(['AGE', 'AME_FLAG', 'APP_SUB_TYPE', 'BILL_AMOUNT_MONTH_1',\n",
       "       'BILL_AMOUNT_MONTH_2', 'BILL_AMOUNT_MONTH_3', 'BILL_AMOUNT_MONTH_4',\n",
       "       'BILL_AMOUNT_MONTH_5', 'BILL_AMOUNT_MONTH_6', 'BIRTH_CITY',\n",
       "       'BIRTH_STATE', 'CARS_FLAG', 'CONF_CITIZEN_CARD_NUM', 'CONF_TAX_STATUS',\n",
       "       'C_NAME_GIVEN', 'C_PRODUCT', 'DAY_OF_PAYMENT', 'EDU_LEVEL',\n",
       "       'EMAIL_FLAG', 'HOME_PHONE_FLAG', 'ID', 'L_BALANCE', 'MATE_PROF_CODE',\n",
       "       'MCARD_FLAG', 'MONTHS_IN_RES', 'M_IN_THE_JOB', 'M_STATUS', 'NAT',\n",
       "       'NUMBERO_OF_BANK_ACCOUNTS', 'NUMBER_OF_DEPENDANTS',\n",
       "       'NUMBER_OF_SPECIAL_BANK_ACCOUNTS', 'OCARDS_FLAG', 'OCC_TYPE',\n",
       "       'O_INCOMES', 'PAY_AMOUNT_MONTH_1', 'PAY_AMOUNT_MONTH_2',\n",
       "       'PAY_AMOUNT_MONTH_3', 'PAY_AMOUNT_MONTH_4', 'PAY_AMOUNT_MONTH_5',\n",
       "       'PAY_AMOUNT_MONTH_6', 'PAY_MONTH_0', 'PAY_MONTH_2', 'PAY_MONTH_3',\n",
       "       'PAY_MONTH_4', 'PAY_MONTH_5', 'PAY_MONTH_6', 'PROF_BOROUGH',\n",
       "       'PROF_CITY', 'PROF_CODE', 'PROF_PHONE_AREA_CODE', 'PROF_PHONE_GIVEN',\n",
       "       'PROF_STATE', 'PROF_ZIP', 'P_ADDRESS_TYPE', 'P_ASSETS_VALUE',\n",
       "       'P_MONTHLY_INCOME', 'RES_BOROUGH', 'RES_CITY', 'RES_PHONE_AREA_CODE',\n",
       "       'RES_STATE', 'RES_TYPE', 'RES_ZIP', 'SEX', 'S_FLAG', 'TARGET',\n",
       "       'VISA_FLAG', 'train_or_test', 'APP_SUB_TYPE=W', 'APP_SUB_TYPE=Z',\n",
       "       'APP_SUB_TYPE=C', 'HOME_PHONE_FLAG=yes', 'HOME_PHONE_FLAG=no',\n",
       "       'PROF_BOROUGH=nincs_adat', 'PROF_BOROUGH=Borough0',\n",
       "       'PROF_BOROUGH=Borough732', 'PROF_BOROUGH=Borough48',\n",
       "       'PROF_BOROUGH=Borough634', 'PROF_BOROUGH=Borough315',\n",
       "       'P_ADDRESS_TYPE=A', 'P_ADDRESS_TYPE=B', 'RES_BOROUGH=nincs_adat',\n",
       "       'RES_BOROUGH=Borough0', 'RES_BOROUGH=Borough48',\n",
       "       'RES_BOROUGH=Borough116', 'RES_BOROUGH=Borough101',\n",
       "       'RES_BOROUGH=Borough152', 'SEX=female', 'SEX=male', 'SEX=nincs_adat'],\n",
       "      dtype='object')"
      ]
     },
     "execution_count": 119,
     "metadata": {},
     "output_type": "execute_result"
    }
   ],
   "source": [
    "train_df.columns"
   ]
  },
  {
   "cell_type": "code",
   "execution_count": 120,
   "metadata": {},
   "outputs": [
    {
     "data": {
      "text/plain": [
       "[dtype('int64'),\n",
       " dtype('int64'),\n",
       " dtype('int64'),\n",
       " dtype('int64'),\n",
       " dtype('int64'),\n",
       " dtype('int64'),\n",
       " dtype('int64'),\n",
       " dtype('int64'),\n",
       " dtype('int64'),\n",
       " dtype('int64'),\n",
       " dtype('int64'),\n",
       " dtype('int64'),\n",
       " dtype('int64'),\n",
       " dtype('int64'),\n",
       " dtype('int64'),\n",
       " dtype('int64'),\n",
       " dtype('int64'),\n",
       " dtype('int64'),\n",
       " dtype('int64'),\n",
       " dtype('int64'),\n",
       " dtype('int64'),\n",
       " dtype('int64'),\n",
       " dtype('int64'),\n",
       " dtype('int64'),\n",
       " dtype('int64'),\n",
       " dtype('int64'),\n",
       " dtype('int64'),\n",
       " dtype('int64'),\n",
       " dtype('int64'),\n",
       " dtype('int64'),\n",
       " dtype('int64'),\n",
       " dtype('int64'),\n",
       " dtype('int64'),\n",
       " dtype('int64'),\n",
       " dtype('int64'),\n",
       " dtype('int64'),\n",
       " dtype('int64'),\n",
       " dtype('int64'),\n",
       " dtype('int64'),\n",
       " dtype('int64'),\n",
       " dtype('int64'),\n",
       " dtype('int64'),\n",
       " dtype('int64'),\n",
       " dtype('int64'),\n",
       " dtype('int64'),\n",
       " dtype('int64'),\n",
       " dtype('int64'),\n",
       " dtype('int64'),\n",
       " dtype('int64'),\n",
       " dtype('int64'),\n",
       " dtype('int64'),\n",
       " dtype('int64'),\n",
       " dtype('int64'),\n",
       " dtype('int64'),\n",
       " dtype('int64'),\n",
       " dtype('int64'),\n",
       " dtype('int64'),\n",
       " dtype('int64'),\n",
       " dtype('int64'),\n",
       " dtype('int64'),\n",
       " dtype('int64'),\n",
       " dtype('int64'),\n",
       " dtype('int64'),\n",
       " dtype('int64'),\n",
       " dtype('int64')]"
      ]
     },
     "execution_count": 120,
     "metadata": {},
     "output_type": "execute_result"
    }
   ],
   "source": [
    "d = []\n",
    "for att in bemeno_valtozok:\n",
    "    d.append(train_df[att].dtype)\n",
    "d"
   ]
  },
  {
   "cell_type": "code",
   "execution_count": 121,
   "metadata": {},
   "outputs": [],
   "source": [
    "# model1\n",
    "from sklearn.linear_model import LogisticRegression\n",
    "model1 = LogisticRegression(random_state=42, max_iter=10000)\n",
    "auc = myxval(model1, train_df, bemeno_valtozok)"
   ]
  },
  {
   "cell_type": "code",
   "execution_count": 122,
   "metadata": {},
   "outputs": [],
   "source": [
    "# model2\n",
    "from sklearn.tree import DecisionTreeClassifier\n",
    "model2 = DecisionTreeClassifier(random_state=42, max_depth=5)\n",
    "auc = myxval(model2, train_df, bemeno_valtozok)"
   ]
  },
  {
   "cell_type": "code",
   "execution_count": 123,
   "metadata": {},
   "outputs": [],
   "source": [
    "# model3\n",
    "from sklearn.ensemble import RandomForestClassifier\n",
    "model3 = RandomForestClassifier(random_state=42, n_estimators=300, max_depth=15)\n",
    "model3.fit(train_df[bemeno_valtozok], train_df['TARGET'])\n",
    "prediction_rfc = model3.predict_proba(test_df[bemeno_valtozok])"
   ]
  },
  {
   "cell_type": "code",
   "execution_count": 124,
   "metadata": {},
   "outputs": [
    {
     "data": {
      "text/plain": [
       "array([[0.75095433, 0.24904567],\n",
       "       [0.70289636, 0.29710364],\n",
       "       [0.48679738, 0.51320262],\n",
       "       ...,\n",
       "       [0.59969358, 0.40030642],\n",
       "       [0.49595869, 0.50404131],\n",
       "       [0.59073919, 0.40926081]])"
      ]
     },
     "execution_count": 124,
     "metadata": {},
     "output_type": "execute_result"
    }
   ],
   "source": [
    "prediction_rfc"
   ]
  },
  {
   "cell_type": "code",
   "execution_count": 125,
   "metadata": {},
   "outputs": [],
   "source": [
    "# model4\n",
    "from sklearn.ensemble import GradientBoostingClassifier\n",
    "model4 = GradientBoostingClassifier(random_state=42, n_estimators=150, max_depth=10)\n",
    "model4.fit(train_df[bemeno_valtozok], train_df['TARGET'])\n",
    "prediction_gbc = model4.predict_proba(test_df[bemeno_valtozok])"
   ]
  },
  {
   "cell_type": "code",
   "execution_count": 126,
   "metadata": {},
   "outputs": [
    {
     "data": {
      "text/plain": [
       "array([[0.75138268, 0.24861732],\n",
       "       [0.70143491, 0.29856509],\n",
       "       [0.14375116, 0.85624884],\n",
       "       ...,\n",
       "       [0.72168684, 0.27831316],\n",
       "       [0.18834643, 0.81165357],\n",
       "       [0.59680572, 0.40319428]])"
      ]
     },
     "execution_count": 126,
     "metadata": {},
     "output_type": "execute_result"
    }
   ],
   "source": [
    "prediction_gbc"
   ]
  },
  {
   "cell_type": "code",
   "execution_count": 127,
   "metadata": {},
   "outputs": [],
   "source": [
    "rfc_p1 = prediction_rfc[:, 1]\n",
    "gbc_p1 = prediction_gbc[:, 1]"
   ]
  },
  {
   "cell_type": "code",
   "execution_count": 128,
   "metadata": {},
   "outputs": [],
   "source": [
    "a = np.array([rfc_p1, gbc_p1])"
   ]
  },
  {
   "cell_type": "code",
   "execution_count": 129,
   "metadata": {},
   "outputs": [
    {
     "data": {
      "text/plain": [
       "array([[0.24904567, 0.29710364, 0.51320262, ..., 0.40030642, 0.50404131,\n",
       "        0.40926081],\n",
       "       [0.24861732, 0.29856509, 0.85624884, ..., 0.27831316, 0.81165357,\n",
       "        0.40319428]])"
      ]
     },
     "execution_count": 129,
     "metadata": {},
     "output_type": "execute_result"
    }
   ],
   "source": [
    "a"
   ]
  },
  {
   "cell_type": "code",
   "execution_count": 130,
   "metadata": {},
   "outputs": [],
   "source": [
    "b = np.mean(a, axis=0)"
   ]
  },
  {
   "cell_type": "code",
   "execution_count": 131,
   "metadata": {},
   "outputs": [],
   "source": [
    "test_df['mean_p1'] = b"
   ]
  },
  {
   "cell_type": "code",
   "execution_count": 132,
   "metadata": {},
   "outputs": [],
   "source": [
    "submission_df = test_df[['ID', 'mean_p1']]\n",
    "submission_df.columns = ['Id', 'Predicted']\n",
    "submission_df.to_csv('proba_mean.csv', index=False)"
   ]
  },
  {
   "cell_type": "code",
   "execution_count": 133,
   "metadata": {},
   "outputs": [
    {
     "data": {
      "text/plain": [
       "0.7486386563717712"
      ]
     },
     "execution_count": 133,
     "metadata": {},
     "output_type": "execute_result"
    }
   ],
   "source": [
    "myxval_multi([model3, model4], train_df, bemeno_valtozok)"
   ]
  }
 ],
 "metadata": {
  "kernelspec": {
   "display_name": "Python 3",
   "language": "python",
   "name": "python3"
  },
  "language_info": {
   "codemirror_mode": {
    "name": "ipython",
    "version": 3
   },
   "file_extension": ".py",
   "mimetype": "text/x-python",
   "name": "python",
   "nbconvert_exporter": "python",
   "pygments_lexer": "ipython3",
   "version": "3.8.2"
  }
 },
 "nbformat": 4,
 "nbformat_minor": 4
}
