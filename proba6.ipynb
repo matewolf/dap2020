{
 "cells": [
  {
   "cell_type": "code",
   "execution_count": 46,
   "metadata": {},
   "outputs": [],
   "source": [
    "import pandas as pd\n",
    "import numpy as np\n",
    "from sklearn.feature_selection import RFE\n",
    "from sklearn.linear_model import Lasso\n",
    "from sklearn.linear_model import LogisticRegression\n",
    "from sklearn.metrics import roc_auc_score"
   ]
  },
  {
   "cell_type": "markdown",
   "metadata": {},
   "source": [
    "### Segédfüggvények"
   ]
  },
  {
   "cell_type": "code",
   "execution_count": 47,
   "metadata": {},
   "outputs": [],
   "source": [
    "def limitalt_dummy_valtozo(indf, oszlop, limit, drop_last=True):\n",
    "    uj_valtozok = []\n",
    "    df = indf.copy()\n",
    "    egyedi_elemszam=df[oszlop].nunique()\n",
    "    if egyedi_elemszam <= limit and drop_last is True:\n",
    "        egyedi_elemszam = egyedi_elemszam - 1\n",
    "    tmp = df[oszlop].value_counts()[:limit]\n",
    "    for value in list(tmp.index):\n",
    "        def f(x):\n",
    "            if x == value:\n",
    "                return 1\n",
    "            else:\n",
    "                return 0\n",
    "        df[oszlop+'='+str(value)] = df[oszlop].apply(f)\n",
    "        uj_valtozok.append(oszlop + '=' + str(value))\n",
    "    return df, uj_valtozok"
   ]
  },
  {
   "cell_type": "code",
   "execution_count": 48,
   "metadata": {},
   "outputs": [],
   "source": [
    "def myxval(model,train_df,bemeno_valtozok,fold_num=3):\n",
    "    train_df['xval']=train_df['ID']%fold_num\n",
    "    auc_list=[]\n",
    "    for i in range(fold_num):\n",
    "        mini_train=train_df[train_df['xval']!=i].copy()\n",
    "        mini_test=train_df[train_df['xval']==i].copy()\n",
    "        model.fit(mini_train[bemeno_valtozok],mini_train['TARGET'])\n",
    "        mini_test['p1']=model.predict_proba(mini_test[bemeno_valtozok])[:,1]\n",
    "        auc=roc_auc_score(mini_test['TARGET'],mini_test['p1'])\n",
    "        auc_list.append(auc)\n",
    "    return np.mean(auc_list)"
   ]
  },
  {
   "cell_type": "code",
   "execution_count": 49,
   "metadata": {},
   "outputs": [],
   "source": [
    "def myxval_predict(model,train_df,bemeno_valtozok,fold_num=3):\n",
    "    train_df['xval']=train_df['ID']%fold_num\n",
    "    auc_list=[]\n",
    "    for i in range(fold_num):\n",
    "        mini_train=train_df[train_df['xval']!=i].copy()\n",
    "        mini_test=train_df[train_df['xval']==i].copy()\n",
    "        model.fit(mini_train[bemeno_valtozok],mini_train['TARGET'])\n",
    "        mini_test['p1']=model.predict(mini_test[bemeno_valtozok])\n",
    "        auc=roc_auc_score(mini_test['TARGET'],mini_test['p1'])\n",
    "        auc_list.append(auc)\n",
    "    return np.mean(auc_list)"
   ]
  },
  {
   "cell_type": "markdown",
   "metadata": {},
   "source": [
    "### --------------------------------------------------------------------- ###"
   ]
  },
  {
   "cell_type": "code",
   "execution_count": 50,
   "metadata": {},
   "outputs": [
    {
     "name": "stderr",
     "output_type": "stream",
     "text": [
      "C:\\Programs\\miniconda\\envs\\dap2020_jupyter\\lib\\site-packages\\IPython\\core\\interactiveshell.py:3062: DtypeWarning: Columns (44,45) have mixed types.Specify dtype option on import or set low_memory=False.\n",
      "  has_raised = await self.run_ast_nodes(code_ast.body, cell_name,\n"
     ]
    }
   ],
   "source": [
    "train_data = pd.read_csv('./data/public_train.csv')\n",
    "test_data = pd.read_csv('./data/public_test.csv')"
   ]
  },
  {
   "cell_type": "code",
   "execution_count": 51,
   "metadata": {},
   "outputs": [],
   "source": [
    "# Train or test?\n",
    "train_data['train_or_test'] = 'train'\n",
    "test_data['train_or_test'] = 'test'"
   ]
  },
  {
   "cell_type": "code",
   "execution_count": 52,
   "metadata": {},
   "outputs": [
    {
     "data": {
      "text/plain": [
       "dtype('int64')"
      ]
     },
     "execution_count": 52,
     "metadata": {},
     "output_type": "execute_result"
    }
   ],
   "source": [
    "train_data['TARGET'].dtype"
   ]
  },
  {
   "cell_type": "code",
   "execution_count": 53,
   "metadata": {},
   "outputs": [],
   "source": [
    "df = pd.concat([train_data, test_data], sort=True)"
   ]
  },
  {
   "cell_type": "code",
   "execution_count": 54,
   "metadata": {},
   "outputs": [
    {
     "data": {
      "text/plain": [
       "dtype('float64')"
      ]
     },
     "execution_count": 54,
     "metadata": {},
     "output_type": "execute_result"
    }
   ],
   "source": [
    "df['TARGET'].dtypes"
   ]
  },
  {
   "cell_type": "code",
   "execution_count": 55,
   "metadata": {},
   "outputs": [],
   "source": [
    "# Hianyzo adatok kitoltese\n",
    "for att in df.columns:\n",
    "    if att==\"TARGET\":\n",
    "        pass\n",
    "    #amik nem számok (string értékek stb...)\n",
    "    elif df[att].dtype==\"object\": \n",
    "        #print(att)\n",
    "        df[att]=df[att].fillna(\"nincs_adat\")\n",
    "    else:\n",
    "        #test és train közös mediánja\n",
    "        #ha van benne NaN, akkor azzal töltötte volna fel, de ez nem jó, ezért kell a nanmedian függvény\n",
    "        #de nem a mediánra kéne itt kitölteni az fix!!!\n",
    "        #df[att]=df[att].fillna(0) ez is lehetne\n",
    "        df[att]=df[att].fillna(0)"
   ]
  },
  {
   "cell_type": "code",
   "execution_count": 56,
   "metadata": {},
   "outputs": [],
   "source": [
    "# float64 to int64\n",
    "for att in df.columns:\n",
    "    if att ==\"TARGET\":\n",
    "        pass\n",
    "    elif df[att].dtype == \"float64\":\n",
    "        df[att] = df[att].astype('int64')"
   ]
  },
  {
   "cell_type": "code",
   "execution_count": 57,
   "metadata": {},
   "outputs": [
    {
     "data": {
      "text/plain": [
       "Index(['AGE', 'AME_FLAG', 'APP_SUB_TYPE', 'BILL_AMOUNT_MONTH_1',\n",
       "       'BILL_AMOUNT_MONTH_2', 'BILL_AMOUNT_MONTH_3', 'BILL_AMOUNT_MONTH_4',\n",
       "       'BILL_AMOUNT_MONTH_5', 'BILL_AMOUNT_MONTH_6', 'BIRTH_CITY',\n",
       "       'BIRTH_STATE', 'CARS_FLAG', 'CONF_CITIZEN_CARD_NUM', 'CONF_TAX_STATUS',\n",
       "       'C_NAME_GIVEN', 'C_PRODUCT', 'DAY_OF_PAYMENT', 'EDU_LEVEL',\n",
       "       'EMAIL_FLAG', 'HOME_PHONE_FLAG', 'ID', 'L_BALANCE', 'MATE_PROF_CODE',\n",
       "       'MCARD_FLAG', 'MONTHS_IN_RES', 'M_IN_THE_JOB', 'M_STATUS', 'NAT',\n",
       "       'NUMBERO_OF_BANK_ACCOUNTS', 'NUMBER_OF_DEPENDANTS',\n",
       "       'NUMBER_OF_SPECIAL_BANK_ACCOUNTS', 'OCARDS_FLAG', 'OCC_TYPE',\n",
       "       'O_INCOMES', 'PAY_AMOUNT_MONTH_1', 'PAY_AMOUNT_MONTH_2',\n",
       "       'PAY_AMOUNT_MONTH_3', 'PAY_AMOUNT_MONTH_4', 'PAY_AMOUNT_MONTH_5',\n",
       "       'PAY_AMOUNT_MONTH_6', 'PAY_MONTH_0', 'PAY_MONTH_2', 'PAY_MONTH_3',\n",
       "       'PAY_MONTH_4', 'PAY_MONTH_5', 'PAY_MONTH_6', 'PROF_BOROUGH',\n",
       "       'PROF_CITY', 'PROF_CODE', 'PROF_PHONE_AREA_CODE', 'PROF_PHONE_GIVEN',\n",
       "       'PROF_STATE', 'PROF_ZIP', 'P_ADDRESS_TYPE', 'P_ASSETS_VALUE',\n",
       "       'P_MONTHLY_INCOME', 'RES_BOROUGH', 'RES_CITY', 'RES_PHONE_AREA_CODE',\n",
       "       'RES_STATE', 'RES_TYPE', 'RES_ZIP', 'SEX', 'S_FLAG', 'TARGET',\n",
       "       'VISA_FLAG', 'train_or_test'],\n",
       "      dtype='object')"
      ]
     },
     "execution_count": 57,
     "metadata": {},
     "output_type": "execute_result"
    }
   ],
   "source": [
    "df.columns"
   ]
  },
  {
   "cell_type": "code",
   "execution_count": 58,
   "metadata": {},
   "outputs": [],
   "source": [
    "bemeno_valtozok = ['AGE', 'AME_FLAG', 'APP_SUB_TYPE', 'BILL_AMOUNT_MONTH_1',\n",
    "       'BILL_AMOUNT_MONTH_2', 'BILL_AMOUNT_MONTH_3', 'BILL_AMOUNT_MONTH_4',\n",
    "       'BILL_AMOUNT_MONTH_5', 'BILL_AMOUNT_MONTH_6', 'CARS_FLAG', 'C_PRODUCT', 'DAY_OF_PAYMENT', 'EDU_LEVEL',\n",
    "       'EMAIL_FLAG', 'HOME_PHONE_FLAG', 'L_BALANCE', 'MATE_PROF_CODE',\n",
    "       'MCARD_FLAG', 'MONTHS_IN_RES', 'M_IN_THE_JOB', 'M_STATUS', 'NAT',\n",
    "       'NUMBERO_OF_BANK_ACCOUNTS', 'NUMBER_OF_DEPENDANTS',\n",
    "       'NUMBER_OF_SPECIAL_BANK_ACCOUNTS', 'OCARDS_FLAG', 'OCC_TYPE',\n",
    "       'O_INCOMES', 'PAY_AMOUNT_MONTH_1', 'PAY_AMOUNT_MONTH_2',\n",
    "       'PAY_AMOUNT_MONTH_3', 'PAY_AMOUNT_MONTH_4', 'PAY_AMOUNT_MONTH_5',\n",
    "       'PAY_AMOUNT_MONTH_6', 'PAY_MONTH_0', 'PAY_MONTH_2', 'PAY_MONTH_3',\n",
    "       'PAY_MONTH_4', 'PAY_MONTH_5', 'PAY_MONTH_6', 'PROF_BOROUGH', 'P_ADDRESS_TYPE', 'P_ASSETS_VALUE',\n",
    "       'P_MONTHLY_INCOME', 'RES_BOROUGH', 'RES_TYPE', 'SEX', 'S_FLAG',\n",
    "       'VISA_FLAG']"
   ]
  },
  {
   "cell_type": "code",
   "execution_count": 59,
   "metadata": {},
   "outputs": [],
   "source": [
    "object_valtozok = []\n",
    "uj_valtozok = []\n",
    "for att in bemeno_valtozok:\n",
    "    if df[att].dtype == 'object':\n",
    "        df, val = limitalt_dummy_valtozo(df, att, 6)\n",
    "        object_valtozok.append(att)\n",
    "        uj_valtozok.extend(val)"
   ]
  },
  {
   "cell_type": "code",
   "execution_count": 60,
   "metadata": {},
   "outputs": [],
   "source": [
    "bemeno_valtozok = bemeno_valtozok + uj_valtozok\n",
    "bemeno_valtozok = [val for val in bemeno_valtozok if val not in object_valtozok]"
   ]
  },
  {
   "cell_type": "code",
   "execution_count": 61,
   "metadata": {},
   "outputs": [
    {
     "data": {
      "text/plain": [
       "[dtype('int64'),\n",
       " dtype('int64'),\n",
       " dtype('int64'),\n",
       " dtype('int64'),\n",
       " dtype('int64'),\n",
       " dtype('int64'),\n",
       " dtype('int64'),\n",
       " dtype('int64'),\n",
       " dtype('int64'),\n",
       " dtype('int64'),\n",
       " dtype('int64'),\n",
       " dtype('int64'),\n",
       " dtype('int64'),\n",
       " dtype('int64'),\n",
       " dtype('int64'),\n",
       " dtype('int64'),\n",
       " dtype('int64'),\n",
       " dtype('int64'),\n",
       " dtype('int64'),\n",
       " dtype('int64'),\n",
       " dtype('int64'),\n",
       " dtype('int64'),\n",
       " dtype('int64'),\n",
       " dtype('int64'),\n",
       " dtype('int64'),\n",
       " dtype('int64'),\n",
       " dtype('int64'),\n",
       " dtype('int64'),\n",
       " dtype('int64'),\n",
       " dtype('int64'),\n",
       " dtype('int64'),\n",
       " dtype('int64'),\n",
       " dtype('int64'),\n",
       " dtype('int64'),\n",
       " dtype('int64'),\n",
       " dtype('int64'),\n",
       " dtype('int64'),\n",
       " dtype('int64'),\n",
       " dtype('int64'),\n",
       " dtype('int64'),\n",
       " dtype('int64'),\n",
       " dtype('int64'),\n",
       " dtype('int64'),\n",
       " dtype('int64'),\n",
       " dtype('int64'),\n",
       " dtype('int64'),\n",
       " dtype('int64'),\n",
       " dtype('int64'),\n",
       " dtype('int64'),\n",
       " dtype('int64'),\n",
       " dtype('int64'),\n",
       " dtype('int64'),\n",
       " dtype('int64'),\n",
       " dtype('int64'),\n",
       " dtype('int64'),\n",
       " dtype('int64'),\n",
       " dtype('int64'),\n",
       " dtype('int64'),\n",
       " dtype('int64'),\n",
       " dtype('int64'),\n",
       " dtype('int64'),\n",
       " dtype('int64'),\n",
       " dtype('int64'),\n",
       " dtype('int64'),\n",
       " dtype('int64')]"
      ]
     },
     "execution_count": 61,
     "metadata": {},
     "output_type": "execute_result"
    }
   ],
   "source": [
    "d = []\n",
    "for att in bemeno_valtozok:\n",
    "    d.append(df[att].dtype)\n",
    "d"
   ]
  },
  {
   "cell_type": "markdown",
   "metadata": {},
   "source": [
    "## Modellezés"
   ]
  },
  {
   "cell_type": "code",
   "execution_count": 62,
   "metadata": {},
   "outputs": [],
   "source": [
    "train_df = df[df['train_or_test'] == 'train'].copy()\n",
    "test_df = df[df['train_or_test'] == 'test'].copy()"
   ]
  },
  {
   "cell_type": "code",
   "execution_count": 63,
   "metadata": {},
   "outputs": [
    {
     "data": {
      "text/plain": [
       "Index(['AGE', 'AME_FLAG', 'APP_SUB_TYPE', 'BILL_AMOUNT_MONTH_1',\n",
       "       'BILL_AMOUNT_MONTH_2', 'BILL_AMOUNT_MONTH_3', 'BILL_AMOUNT_MONTH_4',\n",
       "       'BILL_AMOUNT_MONTH_5', 'BILL_AMOUNT_MONTH_6', 'BIRTH_CITY',\n",
       "       'BIRTH_STATE', 'CARS_FLAG', 'CONF_CITIZEN_CARD_NUM', 'CONF_TAX_STATUS',\n",
       "       'C_NAME_GIVEN', 'C_PRODUCT', 'DAY_OF_PAYMENT', 'EDU_LEVEL',\n",
       "       'EMAIL_FLAG', 'HOME_PHONE_FLAG', 'ID', 'L_BALANCE', 'MATE_PROF_CODE',\n",
       "       'MCARD_FLAG', 'MONTHS_IN_RES', 'M_IN_THE_JOB', 'M_STATUS', 'NAT',\n",
       "       'NUMBERO_OF_BANK_ACCOUNTS', 'NUMBER_OF_DEPENDANTS',\n",
       "       'NUMBER_OF_SPECIAL_BANK_ACCOUNTS', 'OCARDS_FLAG', 'OCC_TYPE',\n",
       "       'O_INCOMES', 'PAY_AMOUNT_MONTH_1', 'PAY_AMOUNT_MONTH_2',\n",
       "       'PAY_AMOUNT_MONTH_3', 'PAY_AMOUNT_MONTH_4', 'PAY_AMOUNT_MONTH_5',\n",
       "       'PAY_AMOUNT_MONTH_6', 'PAY_MONTH_0', 'PAY_MONTH_2', 'PAY_MONTH_3',\n",
       "       'PAY_MONTH_4', 'PAY_MONTH_5', 'PAY_MONTH_6', 'PROF_BOROUGH',\n",
       "       'PROF_CITY', 'PROF_CODE', 'PROF_PHONE_AREA_CODE', 'PROF_PHONE_GIVEN',\n",
       "       'PROF_STATE', 'PROF_ZIP', 'P_ADDRESS_TYPE', 'P_ASSETS_VALUE',\n",
       "       'P_MONTHLY_INCOME', 'RES_BOROUGH', 'RES_CITY', 'RES_PHONE_AREA_CODE',\n",
       "       'RES_STATE', 'RES_TYPE', 'RES_ZIP', 'SEX', 'S_FLAG', 'TARGET',\n",
       "       'VISA_FLAG', 'train_or_test', 'APP_SUB_TYPE=W', 'APP_SUB_TYPE=Z',\n",
       "       'APP_SUB_TYPE=C', 'HOME_PHONE_FLAG=yes', 'HOME_PHONE_FLAG=no',\n",
       "       'PROF_BOROUGH=nincs_adat', 'PROF_BOROUGH=Borough0',\n",
       "       'PROF_BOROUGH=Borough732', 'PROF_BOROUGH=Borough48',\n",
       "       'PROF_BOROUGH=Borough634', 'PROF_BOROUGH=Borough315',\n",
       "       'P_ADDRESS_TYPE=A', 'P_ADDRESS_TYPE=B', 'RES_BOROUGH=nincs_adat',\n",
       "       'RES_BOROUGH=Borough0', 'RES_BOROUGH=Borough48',\n",
       "       'RES_BOROUGH=Borough116', 'RES_BOROUGH=Borough101',\n",
       "       'RES_BOROUGH=Borough152', 'SEX=female', 'SEX=male', 'SEX=nincs_adat'],\n",
       "      dtype='object')"
      ]
     },
     "execution_count": 63,
     "metadata": {},
     "output_type": "execute_result"
    }
   ],
   "source": [
    "train_df.columns"
   ]
  },
  {
   "cell_type": "code",
   "execution_count": 64,
   "metadata": {},
   "outputs": [
    {
     "data": {
      "text/plain": [
       "[dtype('int64'),\n",
       " dtype('int64'),\n",
       " dtype('int64'),\n",
       " dtype('int64'),\n",
       " dtype('int64'),\n",
       " dtype('int64'),\n",
       " dtype('int64'),\n",
       " dtype('int64'),\n",
       " dtype('int64'),\n",
       " dtype('int64'),\n",
       " dtype('int64'),\n",
       " dtype('int64'),\n",
       " dtype('int64'),\n",
       " dtype('int64'),\n",
       " dtype('int64'),\n",
       " dtype('int64'),\n",
       " dtype('int64'),\n",
       " dtype('int64'),\n",
       " dtype('int64'),\n",
       " dtype('int64'),\n",
       " dtype('int64'),\n",
       " dtype('int64'),\n",
       " dtype('int64'),\n",
       " dtype('int64'),\n",
       " dtype('int64'),\n",
       " dtype('int64'),\n",
       " dtype('int64'),\n",
       " dtype('int64'),\n",
       " dtype('int64'),\n",
       " dtype('int64'),\n",
       " dtype('int64'),\n",
       " dtype('int64'),\n",
       " dtype('int64'),\n",
       " dtype('int64'),\n",
       " dtype('int64'),\n",
       " dtype('int64'),\n",
       " dtype('int64'),\n",
       " dtype('int64'),\n",
       " dtype('int64'),\n",
       " dtype('int64'),\n",
       " dtype('int64'),\n",
       " dtype('int64'),\n",
       " dtype('int64'),\n",
       " dtype('int64'),\n",
       " dtype('int64'),\n",
       " dtype('int64'),\n",
       " dtype('int64'),\n",
       " dtype('int64'),\n",
       " dtype('int64'),\n",
       " dtype('int64'),\n",
       " dtype('int64'),\n",
       " dtype('int64'),\n",
       " dtype('int64'),\n",
       " dtype('int64'),\n",
       " dtype('int64'),\n",
       " dtype('int64'),\n",
       " dtype('int64'),\n",
       " dtype('int64'),\n",
       " dtype('int64'),\n",
       " dtype('int64'),\n",
       " dtype('int64'),\n",
       " dtype('int64'),\n",
       " dtype('int64'),\n",
       " dtype('int64'),\n",
       " dtype('int64')]"
      ]
     },
     "execution_count": 64,
     "metadata": {},
     "output_type": "execute_result"
    }
   ],
   "source": [
    "d = []\n",
    "for att in bemeno_valtozok:\n",
    "    d.append(train_df[att].dtype)\n",
    "d"
   ]
  },
  {
   "cell_type": "code",
   "execution_count": 65,
   "metadata": {},
   "outputs": [],
   "source": [
    "estimators = list(range(150, 301, 25))"
   ]
  },
  {
   "cell_type": "code",
   "execution_count": 66,
   "metadata": {},
   "outputs": [],
   "source": [
    "depth = list(range(5, 16, 5))"
   ]
  },
  {
   "cell_type": "code",
   "execution_count": 67,
   "metadata": {},
   "outputs": [
    {
     "data": {
      "text/plain": [
       "[150, 175, 200, 225, 250, 275, 300]"
      ]
     },
     "execution_count": 67,
     "metadata": {},
     "output_type": "execute_result"
    }
   ],
   "source": [
    "estimators"
   ]
  },
  {
   "cell_type": "code",
   "execution_count": 69,
   "metadata": {},
   "outputs": [],
   "source": [
    "from sklearn.ensemble import RandomForestClassifier\n",
    "opt_rfc = dict()\n",
    "for d in depth:\n",
    "    for e in estimators:\n",
    "        model = RandomForestClassifier(random_state=42, n_estimators=e, max_depth=d)\n",
    "        auc = myxval(model, train_df, bemeno_valtozok)\n",
    "        opt_rfc[(d, e)] = auc"
   ]
  },
  {
   "cell_type": "code",
   "execution_count": 70,
   "metadata": {},
   "outputs": [
    {
     "data": {
      "text/plain": [
       "{(5, 150): 0.6827286062409773,\n",
       " (5, 175): 0.6831725543853353,\n",
       " (5, 200): 0.6832803759203486,\n",
       " (5, 225): 0.6832729107808468,\n",
       " (5, 250): 0.6833498716412952,\n",
       " (5, 275): 0.6833830958449284,\n",
       " (5, 300): 0.6833114612370377,\n",
       " (10, 150): 0.724571678031045,\n",
       " (10, 175): 0.7242235250871558,\n",
       " (10, 200): 0.7241145697102674,\n",
       " (10, 225): 0.7243247982920159,\n",
       " (10, 250): 0.7246694694470724,\n",
       " (10, 275): 0.7248942000560218,\n",
       " (10, 300): 0.7248263033160015,\n",
       " (15, 150): 0.7415006473169733,\n",
       " (15, 175): 0.7419665397328307,\n",
       " (15, 200): 0.7421035895681879,\n",
       " (15, 225): 0.7424823253984815,\n",
       " (15, 250): 0.7429615543712916,\n",
       " (15, 275): 0.7430576293437952,\n",
       " (15, 300): 0.7431940836655578}"
      ]
     },
     "execution_count": 70,
     "metadata": {},
     "output_type": "execute_result"
    }
   ],
   "source": [
    "opt_rfc"
   ]
  },
  {
   "cell_type": "code",
   "execution_count": 71,
   "metadata": {},
   "outputs": [],
   "source": [
    "from sklearn.ensemble import GradientBoostingClassifier\n",
    "opt_gbc = dict()\n",
    "for d in depth:\n",
    "    for e in estimators:\n",
    "        model = GradientBoostingClassifier(random_state=42, n_estimators=e, max_depth=d)\n",
    "        auc = myxval(model, train_df, bemeno_valtozok)\n",
    "        opt_gbc[(d, e)] = auc"
   ]
  },
  {
   "cell_type": "code",
   "execution_count": 72,
   "metadata": {},
   "outputs": [
    {
     "data": {
      "text/plain": [
       "{(5, 150): 0.7342727429671605,\n",
       " (5, 175): 0.7361634051967485,\n",
       " (5, 200): 0.7374226991794907,\n",
       " (5, 225): 0.7393877539048163,\n",
       " (5, 250): 0.7404239331288719,\n",
       " (5, 275): 0.7411828367634365,\n",
       " (5, 300): 0.7420622826647314,\n",
       " (10, 150): 0.7438327695592072,\n",
       " (10, 175): 0.7440240936484672,\n",
       " (10, 200): 0.7439829701073973,\n",
       " (10, 225): 0.744038844749321,\n",
       " (10, 250): 0.7439328473253523,\n",
       " (10, 275): 0.7437808981988887,\n",
       " (10, 300): 0.7436279679310994,\n",
       " (15, 150): 0.7384151929600384,\n",
       " (15, 175): 0.7395745667758291,\n",
       " (15, 200): 0.7397775241624421,\n",
       " (15, 225): 0.7406348641320447,\n",
       " (15, 250): 0.7412356009567348,\n",
       " (15, 275): 0.7418715424502969,\n",
       " (15, 300): 0.7420645723626871}"
      ]
     },
     "execution_count": 72,
     "metadata": {},
     "output_type": "execute_result"
    }
   ],
   "source": [
    "opt_gbc"
   ]
  },
  {
   "cell_type": "code",
   "execution_count": 74,
   "metadata": {},
   "outputs": [],
   "source": [
    "model_rfc = RandomForestClassifier(random_state=42, n_estimators=300, max_depth=15)\n",
    "model_gbc = GradientBoostingClassifier(random_state=42, n_estimators=225, max_depth=10)"
   ]
  },
  {
   "cell_type": "code",
   "execution_count": 75,
   "metadata": {},
   "outputs": [
    {
     "data": {
      "text/plain": [
       "GradientBoostingClassifier(ccp_alpha=0.0, criterion='friedman_mse', init=None,\n",
       "                           learning_rate=0.1, loss='deviance', max_depth=10,\n",
       "                           max_features=None, max_leaf_nodes=None,\n",
       "                           min_impurity_decrease=0.0, min_impurity_split=None,\n",
       "                           min_samples_leaf=1, min_samples_split=2,\n",
       "                           min_weight_fraction_leaf=0.0, n_estimators=225,\n",
       "                           n_iter_no_change=None, presort='deprecated',\n",
       "                           random_state=42, subsample=1.0, tol=0.0001,\n",
       "                           validation_fraction=0.1, verbose=0,\n",
       "                           warm_start=False)"
      ]
     },
     "execution_count": 75,
     "metadata": {},
     "output_type": "execute_result"
    }
   ],
   "source": [
    "model_rfc.fit(train_df[bemeno_valtozok], train_df['TARGET'])\n",
    "model_gbc.fit(train_df[bemeno_valtozok], train_df['TARGET'])"
   ]
  },
  {
   "cell_type": "code",
   "execution_count": 77,
   "metadata": {},
   "outputs": [],
   "source": [
    "prediction_rfc = model_rfc.predict_proba(test_df[bemeno_valtozok])[:,1]\n",
    "prediction_gbc = model_gbc.predict_proba(test_df[bemeno_valtozok])[:,1]"
   ]
  },
  {
   "cell_type": "code",
   "execution_count": 78,
   "metadata": {},
   "outputs": [],
   "source": [
    "a = np.array([prediction_rfc, prediction_gbc])"
   ]
  },
  {
   "cell_type": "code",
   "execution_count": 79,
   "metadata": {},
   "outputs": [],
   "source": [
    "test_df['p1'] = np.mean(a, axis=0)"
   ]
  },
  {
   "cell_type": "code",
   "execution_count": 80,
   "metadata": {},
   "outputs": [],
   "source": [
    "submission_df = test_df[['ID', 'p1']]\n",
    "submission_df.columns = ['Id', 'Predicted']\n",
    "submission_df.to_csv('proba6.csv', index=False)"
   ]
  },
  {
   "cell_type": "code",
   "execution_count": null,
   "metadata": {},
   "outputs": [],
   "source": []
  }
 ],
 "metadata": {
  "kernelspec": {
   "display_name": "Python 3",
   "language": "python",
   "name": "python3"
  },
  "language_info": {
   "codemirror_mode": {
    "name": "ipython",
    "version": 3
   },
   "file_extension": ".py",
   "mimetype": "text/x-python",
   "name": "python",
   "nbconvert_exporter": "python",
   "pygments_lexer": "ipython3",
   "version": "3.8.2"
  }
 },
 "nbformat": 4,
 "nbformat_minor": 4
}
