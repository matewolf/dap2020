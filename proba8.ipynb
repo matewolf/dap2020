{
 "cells": [
  {
   "cell_type": "code",
   "execution_count": 102,
   "metadata": {},
   "outputs": [],
   "source": [
    "import pandas as pd\n",
    "import numpy as np\n",
    "from sklearn.feature_selection import RFE\n",
    "from sklearn.linear_model import Lasso\n",
    "from sklearn.linear_model import LogisticRegression\n",
    "from sklearn.metrics import roc_auc_score"
   ]
  },
  {
   "cell_type": "markdown",
   "metadata": {},
   "source": [
    "### Segédfüggvények"
   ]
  },
  {
   "cell_type": "code",
   "execution_count": 103,
   "metadata": {},
   "outputs": [],
   "source": [
    "def limitalt_dummy_valtozo(indf, oszlop, limit, drop_last=True):\n",
    "    uj_valtozok = []\n",
    "    df = indf.copy()\n",
    "    egyedi_elemszam=df[oszlop].nunique()\n",
    "    if egyedi_elemszam <= limit and drop_last is True:\n",
    "        egyedi_elemszam = egyedi_elemszam - 1\n",
    "    tmp = df[oszlop].value_counts()[:limit]\n",
    "    for value in list(tmp.index):\n",
    "        def f(x):\n",
    "            if x == value:\n",
    "                return 1\n",
    "            else:\n",
    "                return 0\n",
    "        df[oszlop+'='+str(value)] = df[oszlop].apply(f)\n",
    "        uj_valtozok.append(oszlop + '=' + str(value))\n",
    "    return df, uj_valtozok"
   ]
  },
  {
   "cell_type": "code",
   "execution_count": 104,
   "metadata": {},
   "outputs": [],
   "source": [
    "def myxval(model,train_df,bemeno_valtozok,fold_num=3):\n",
    "    train_df['xval']=train_df['ID']%fold_num\n",
    "    auc_list=[]\n",
    "    for i in range(fold_num):\n",
    "        mini_train=train_df[train_df['xval']!=i].copy()\n",
    "        mini_test=train_df[train_df['xval']==i].copy()\n",
    "        model.fit(mini_train[bemeno_valtozok],mini_train['TARGET'])\n",
    "        mini_test['p1']=model.predict_proba(mini_test[bemeno_valtozok])[:,1]\n",
    "        auc=roc_auc_score(mini_test['TARGET'],mini_test['p1'])\n",
    "        auc_list.append(auc)\n",
    "    return np.mean(auc_list)"
   ]
  },
  {
   "cell_type": "code",
   "execution_count": 105,
   "metadata": {},
   "outputs": [],
   "source": [
    "from sklearn.metrics import roc_auc_score\n",
    "\n",
    "def myxval_multi(models,train_df,bemeno_valtozok,fold_num=3):\n",
    "    train_df['xval']=train_df['ID']%fold_num\n",
    "    auc_list=[]\n",
    "    for i in range(fold_num):\n",
    "        mini_train=train_df[train_df['xval']!=i].copy()\n",
    "        mini_test=train_df[train_df['xval']==i].copy()\n",
    "        predict_list = None\n",
    "        for model in models:\n",
    "            model.fit(mini_train[bemeno_valtozok],mini_train['TARGET'])\n",
    "            predictions=model.predict_proba(mini_test[bemeno_valtozok])[:,1]\n",
    "            predictions = predictions.reshape((1, len(predictions)))\n",
    "            if predict_list is None:\n",
    "                predict_list = predictions\n",
    "            else:\n",
    "                predict_list = np.concatenate([predict_list, predictions], axis=0)\n",
    "        mini_test['p1'] = np.mean(predict_list, axis=0)\n",
    "        auc=roc_auc_score(mini_test['TARGET'],mini_test['p1'])\n",
    "        auc_list.append(auc)\n",
    "    return np.mean(auc_list)"
   ]
  },
  {
   "cell_type": "markdown",
   "metadata": {},
   "source": [
    "### --------------------------------------------------------------------- ###"
   ]
  },
  {
   "cell_type": "code",
   "execution_count": 106,
   "metadata": {},
   "outputs": [
    {
     "name": "stderr",
     "output_type": "stream",
     "text": [
      "C:\\Programs\\miniconda\\envs\\dap2020_jupyter\\lib\\site-packages\\IPython\\core\\interactiveshell.py:3062: DtypeWarning: Columns (44,45) have mixed types.Specify dtype option on import or set low_memory=False.\n",
      "  has_raised = await self.run_ast_nodes(code_ast.body, cell_name,\n"
     ]
    }
   ],
   "source": [
    "train_data = pd.read_csv('./data/public_train.csv')\n",
    "test_data = pd.read_csv('./data/public_test.csv')"
   ]
  },
  {
   "cell_type": "code",
   "execution_count": 107,
   "metadata": {},
   "outputs": [],
   "source": [
    "# Train or test?\n",
    "train_data['train_or_test'] = 'train'\n",
    "test_data['train_or_test'] = 'test'"
   ]
  },
  {
   "cell_type": "code",
   "execution_count": 108,
   "metadata": {},
   "outputs": [],
   "source": [
    "df = pd.concat([train_data, test_data], sort=True)"
   ]
  },
  {
   "cell_type": "markdown",
   "metadata": {},
   "source": [
    "# TO_OBJECT"
   ]
  },
  {
   "cell_type": "code",
   "execution_count": 109,
   "metadata": {},
   "outputs": [],
   "source": [
    "object_valtozok = ['NAT', 'M_STATUS', 'MATE_PROF_CODE', 'VISA_FLAG', 'MCARD_FLAG', 'S_FLAG',\n",
    "       'AME_FLAG', 'OCARDS_FLAG', 'CARS_FLAG', 'PROF_CODE', 'OCC_TYPE', 'C_PRODUCT']"
   ]
  },
  {
   "cell_type": "code",
   "execution_count": 110,
   "metadata": {},
   "outputs": [],
   "source": [
    "for att in object_valtozok:\n",
    "    df[att] = df[att].astype('O')"
   ]
  },
  {
   "cell_type": "code",
   "execution_count": 111,
   "metadata": {},
   "outputs": [
    {
     "data": {
      "text/html": [
       "<div>\n",
       "<style scoped>\n",
       "    .dataframe tbody tr th:only-of-type {\n",
       "        vertical-align: middle;\n",
       "    }\n",
       "\n",
       "    .dataframe tbody tr th {\n",
       "        vertical-align: top;\n",
       "    }\n",
       "\n",
       "    .dataframe thead th {\n",
       "        text-align: right;\n",
       "    }\n",
       "</style>\n",
       "<table border=\"1\" class=\"dataframe\">\n",
       "  <thead>\n",
       "    <tr style=\"text-align: right;\">\n",
       "      <th></th>\n",
       "      <th>AGE</th>\n",
       "      <th>AME_FLAG</th>\n",
       "      <th>APP_SUB_TYPE</th>\n",
       "      <th>BILL_AMOUNT_MONTH_1</th>\n",
       "      <th>BILL_AMOUNT_MONTH_2</th>\n",
       "      <th>BILL_AMOUNT_MONTH_3</th>\n",
       "      <th>BILL_AMOUNT_MONTH_4</th>\n",
       "      <th>BILL_AMOUNT_MONTH_5</th>\n",
       "      <th>BILL_AMOUNT_MONTH_6</th>\n",
       "      <th>BIRTH_CITY</th>\n",
       "      <th>...</th>\n",
       "      <th>RES_CITY</th>\n",
       "      <th>RES_PHONE_AREA_CODE</th>\n",
       "      <th>RES_STATE</th>\n",
       "      <th>RES_TYPE</th>\n",
       "      <th>RES_ZIP</th>\n",
       "      <th>SEX</th>\n",
       "      <th>S_FLAG</th>\n",
       "      <th>TARGET</th>\n",
       "      <th>VISA_FLAG</th>\n",
       "      <th>train_or_test</th>\n",
       "    </tr>\n",
       "  </thead>\n",
       "  <tbody>\n",
       "    <tr>\n",
       "      <th>0</th>\n",
       "      <td>32</td>\n",
       "      <td>0</td>\n",
       "      <td>W</td>\n",
       "      <td>4181</td>\n",
       "      <td>25988</td>\n",
       "      <td>3177</td>\n",
       "      <td>49174</td>\n",
       "      <td>11823</td>\n",
       "      <td>669</td>\n",
       "      <td>City0</td>\n",
       "      <td>...</td>\n",
       "      <td>City2115</td>\n",
       "      <td>105</td>\n",
       "      <td>State0</td>\n",
       "      <td>1.0</td>\n",
       "      <td>595</td>\n",
       "      <td>female</td>\n",
       "      <td>0</td>\n",
       "      <td>1.0</td>\n",
       "      <td>1</td>\n",
       "      <td>train</td>\n",
       "    </tr>\n",
       "    <tr>\n",
       "      <th>1</th>\n",
       "      <td>34</td>\n",
       "      <td>0</td>\n",
       "      <td>C</td>\n",
       "      <td>5100</td>\n",
       "      <td>9861</td>\n",
       "      <td>11021</td>\n",
       "      <td>16883</td>\n",
       "      <td>150</td>\n",
       "      <td>4661</td>\n",
       "      <td>City1</td>\n",
       "      <td>...</td>\n",
       "      <td>City1</td>\n",
       "      <td>20</td>\n",
       "      <td>State1</td>\n",
       "      <td>1.0</td>\n",
       "      <td>230</td>\n",
       "      <td>female</td>\n",
       "      <td>0</td>\n",
       "      <td>1.0</td>\n",
       "      <td>0</td>\n",
       "      <td>train</td>\n",
       "    </tr>\n",
       "    <tr>\n",
       "      <th>2</th>\n",
       "      <td>61</td>\n",
       "      <td>0</td>\n",
       "      <td>W</td>\n",
       "      <td>97989</td>\n",
       "      <td>101458</td>\n",
       "      <td>103840</td>\n",
       "      <td>105646</td>\n",
       "      <td>86127</td>\n",
       "      <td>67269</td>\n",
       "      <td>City3</td>\n",
       "      <td>...</td>\n",
       "      <td>City3</td>\n",
       "      <td></td>\n",
       "      <td>State2</td>\n",
       "      <td>NaN</td>\n",
       "      <td>545</td>\n",
       "      <td>female</td>\n",
       "      <td>0</td>\n",
       "      <td>0.0</td>\n",
       "      <td>0</td>\n",
       "      <td>train</td>\n",
       "    </tr>\n",
       "    <tr>\n",
       "      <th>3</th>\n",
       "      <td>36</td>\n",
       "      <td>0</td>\n",
       "      <td>W</td>\n",
       "      <td>44970</td>\n",
       "      <td>48101</td>\n",
       "      <td>46993</td>\n",
       "      <td>47940</td>\n",
       "      <td>50903</td>\n",
       "      <td>49794</td>\n",
       "      <td>City9</td>\n",
       "      <td>...</td>\n",
       "      <td>City16</td>\n",
       "      <td>107</td>\n",
       "      <td>State7</td>\n",
       "      <td>1.0</td>\n",
       "      <td>607</td>\n",
       "      <td>female</td>\n",
       "      <td>0</td>\n",
       "      <td>1.0</td>\n",
       "      <td>0</td>\n",
       "      <td>train</td>\n",
       "    </tr>\n",
       "    <tr>\n",
       "      <th>4</th>\n",
       "      <td>29</td>\n",
       "      <td>0</td>\n",
       "      <td>W</td>\n",
       "      <td>390</td>\n",
       "      <td>1780</td>\n",
       "      <td>0</td>\n",
       "      <td>0</td>\n",
       "      <td>0</td>\n",
       "      <td>0</td>\n",
       "      <td>City10</td>\n",
       "      <td>...</td>\n",
       "      <td>City10</td>\n",
       "      <td>32</td>\n",
       "      <td>State3</td>\n",
       "      <td>1.0</td>\n",
       "      <td>384</td>\n",
       "      <td>female</td>\n",
       "      <td>0</td>\n",
       "      <td>0.0</td>\n",
       "      <td>0</td>\n",
       "      <td>train</td>\n",
       "    </tr>\n",
       "    <tr>\n",
       "      <th>...</th>\n",
       "      <td>...</td>\n",
       "      <td>...</td>\n",
       "      <td>...</td>\n",
       "      <td>...</td>\n",
       "      <td>...</td>\n",
       "      <td>...</td>\n",
       "      <td>...</td>\n",
       "      <td>...</td>\n",
       "      <td>...</td>\n",
       "      <td>...</td>\n",
       "      <td>...</td>\n",
       "      <td>...</td>\n",
       "      <td>...</td>\n",
       "      <td>...</td>\n",
       "      <td>...</td>\n",
       "      <td>...</td>\n",
       "      <td>...</td>\n",
       "      <td>...</td>\n",
       "      <td>...</td>\n",
       "      <td>...</td>\n",
       "      <td>...</td>\n",
       "    </tr>\n",
       "    <tr>\n",
       "      <th>24995</th>\n",
       "      <td>59</td>\n",
       "      <td>0</td>\n",
       "      <td>W</td>\n",
       "      <td>128671</td>\n",
       "      <td>129901</td>\n",
       "      <td>127658</td>\n",
       "      <td>127362</td>\n",
       "      <td>128726</td>\n",
       "      <td>129081</td>\n",
       "      <td>NaN</td>\n",
       "      <td>...</td>\n",
       "      <td>City8</td>\n",
       "      <td>66</td>\n",
       "      <td>State21</td>\n",
       "      <td>1.0</td>\n",
       "      <td>725</td>\n",
       "      <td>female</td>\n",
       "      <td>0</td>\n",
       "      <td>NaN</td>\n",
       "      <td>0</td>\n",
       "      <td>test</td>\n",
       "    </tr>\n",
       "    <tr>\n",
       "      <th>24996</th>\n",
       "      <td>38</td>\n",
       "      <td>0</td>\n",
       "      <td>W</td>\n",
       "      <td>70381</td>\n",
       "      <td>68660</td>\n",
       "      <td>70081</td>\n",
       "      <td>70899</td>\n",
       "      <td>75331</td>\n",
       "      <td>74005</td>\n",
       "      <td>NaN</td>\n",
       "      <td>...</td>\n",
       "      <td>City239</td>\n",
       "      <td>112</td>\n",
       "      <td>State7</td>\n",
       "      <td>1.0</td>\n",
       "      <td>635</td>\n",
       "      <td>female</td>\n",
       "      <td>0</td>\n",
       "      <td>NaN</td>\n",
       "      <td>0</td>\n",
       "      <td>test</td>\n",
       "    </tr>\n",
       "    <tr>\n",
       "      <th>24997</th>\n",
       "      <td>37</td>\n",
       "      <td>0</td>\n",
       "      <td>Z</td>\n",
       "      <td>5988</td>\n",
       "      <td>0</td>\n",
       "      <td>0</td>\n",
       "      <td>0</td>\n",
       "      <td>0</td>\n",
       "      <td>0</td>\n",
       "      <td>City32</td>\n",
       "      <td>...</td>\n",
       "      <td>NaN</td>\n",
       "      <td>105</td>\n",
       "      <td>State0</td>\n",
       "      <td>2.0</td>\n",
       "      <td>591</td>\n",
       "      <td>female</td>\n",
       "      <td>0</td>\n",
       "      <td>NaN</td>\n",
       "      <td>0</td>\n",
       "      <td>test</td>\n",
       "    </tr>\n",
       "    <tr>\n",
       "      <th>24998</th>\n",
       "      <td>68</td>\n",
       "      <td>0</td>\n",
       "      <td>W</td>\n",
       "      <td>6954</td>\n",
       "      <td>4110</td>\n",
       "      <td>1030</td>\n",
       "      <td>357</td>\n",
       "      <td>357</td>\n",
       "      <td>370</td>\n",
       "      <td>City1442</td>\n",
       "      <td>...</td>\n",
       "      <td>City459</td>\n",
       "      <td></td>\n",
       "      <td>State5</td>\n",
       "      <td>1.0</td>\n",
       "      <td>882</td>\n",
       "      <td>male</td>\n",
       "      <td>0</td>\n",
       "      <td>NaN</td>\n",
       "      <td>0</td>\n",
       "      <td>test</td>\n",
       "    </tr>\n",
       "    <tr>\n",
       "      <th>24999</th>\n",
       "      <td>27</td>\n",
       "      <td>0</td>\n",
       "      <td>W</td>\n",
       "      <td>186248</td>\n",
       "      <td>178001</td>\n",
       "      <td>145248</td>\n",
       "      <td>58142</td>\n",
       "      <td>22312</td>\n",
       "      <td>7340</td>\n",
       "      <td>City3754</td>\n",
       "      <td>...</td>\n",
       "      <td>NaN</td>\n",
       "      <td></td>\n",
       "      <td>State5</td>\n",
       "      <td>1.0</td>\n",
       "      <td>124</td>\n",
       "      <td>female</td>\n",
       "      <td>0</td>\n",
       "      <td>NaN</td>\n",
       "      <td>0</td>\n",
       "      <td>test</td>\n",
       "    </tr>\n",
       "  </tbody>\n",
       "</table>\n",
       "<p>50000 rows × 67 columns</p>\n",
       "</div>"
      ],
      "text/plain": [
       "       AGE AME_FLAG APP_SUB_TYPE  BILL_AMOUNT_MONTH_1  BILL_AMOUNT_MONTH_2  \\\n",
       "0       32        0            W                 4181                25988   \n",
       "1       34        0            C                 5100                 9861   \n",
       "2       61        0            W                97989               101458   \n",
       "3       36        0            W                44970                48101   \n",
       "4       29        0            W                  390                 1780   \n",
       "...    ...      ...          ...                  ...                  ...   \n",
       "24995   59        0            W               128671               129901   \n",
       "24996   38        0            W                70381                68660   \n",
       "24997   37        0            Z                 5988                    0   \n",
       "24998   68        0            W                 6954                 4110   \n",
       "24999   27        0            W               186248               178001   \n",
       "\n",
       "       BILL_AMOUNT_MONTH_3  BILL_AMOUNT_MONTH_4  BILL_AMOUNT_MONTH_5  \\\n",
       "0                     3177                49174                11823   \n",
       "1                    11021                16883                  150   \n",
       "2                   103840               105646                86127   \n",
       "3                    46993                47940                50903   \n",
       "4                        0                    0                    0   \n",
       "...                    ...                  ...                  ...   \n",
       "24995               127658               127362               128726   \n",
       "24996                70081                70899                75331   \n",
       "24997                    0                    0                    0   \n",
       "24998                 1030                  357                  357   \n",
       "24999               145248                58142                22312   \n",
       "\n",
       "       BILL_AMOUNT_MONTH_6 BIRTH_CITY  ...  RES_CITY RES_PHONE_AREA_CODE  \\\n",
       "0                      669      City0  ...  City2115                 105   \n",
       "1                     4661      City1  ...     City1                  20   \n",
       "2                    67269      City3  ...     City3                       \n",
       "3                    49794      City9  ...    City16                 107   \n",
       "4                        0     City10  ...    City10                  32   \n",
       "...                    ...        ...  ...       ...                 ...   \n",
       "24995               129081        NaN  ...     City8                  66   \n",
       "24996                74005        NaN  ...   City239                 112   \n",
       "24997                    0     City32  ...       NaN                 105   \n",
       "24998                  370   City1442  ...   City459                       \n",
       "24999                 7340   City3754  ...       NaN                       \n",
       "\n",
       "       RES_STATE  RES_TYPE RES_ZIP     SEX  S_FLAG  TARGET  VISA_FLAG  \\\n",
       "0         State0       1.0     595  female       0     1.0          1   \n",
       "1         State1       1.0     230  female       0     1.0          0   \n",
       "2         State2       NaN     545  female       0     0.0          0   \n",
       "3         State7       1.0     607  female       0     1.0          0   \n",
       "4         State3       1.0     384  female       0     0.0          0   \n",
       "...          ...       ...     ...     ...     ...     ...        ...   \n",
       "24995    State21       1.0     725  female       0     NaN          0   \n",
       "24996     State7       1.0     635  female       0     NaN          0   \n",
       "24997     State0       2.0     591  female       0     NaN          0   \n",
       "24998     State5       1.0     882    male       0     NaN          0   \n",
       "24999     State5       1.0     124  female       0     NaN          0   \n",
       "\n",
       "      train_or_test  \n",
       "0             train  \n",
       "1             train  \n",
       "2             train  \n",
       "3             train  \n",
       "4             train  \n",
       "...             ...  \n",
       "24995          test  \n",
       "24996          test  \n",
       "24997          test  \n",
       "24998          test  \n",
       "24999          test  \n",
       "\n",
       "[50000 rows x 67 columns]"
      ]
     },
     "execution_count": 111,
     "metadata": {},
     "output_type": "execute_result"
    }
   ],
   "source": [
    "df"
   ]
  },
  {
   "cell_type": "markdown",
   "metadata": {},
   "source": [
    "# Hiányzó adatok"
   ]
  },
  {
   "cell_type": "code",
   "execution_count": 112,
   "metadata": {},
   "outputs": [],
   "source": [
    "# Hianyzo adatok kitoltese\n",
    "for att in df.columns:\n",
    "    if att==\"TARGET\":\n",
    "        pass\n",
    "    #amik nem számok (string értékek stb...)\n",
    "    elif df[att].dtype==\"object\": \n",
    "        #print(att)\n",
    "        df[att]=df[att].fillna(\"nincs_adat\")\n",
    "    else:\n",
    "        #test és train közös mediánja\n",
    "        #ha van benne NaN, akkor azzal töltötte volna fel, de ez nem jó, ezért kell a nanmedian függvény\n",
    "        #de nem a mediánra kéne itt kitölteni az fix!!!\n",
    "        #df[att]=df[att].fillna(0) ez is lehetne\n",
    "        df[att]=df[att].fillna(0)"
   ]
  },
  {
   "cell_type": "code",
   "execution_count": 113,
   "metadata": {},
   "outputs": [],
   "source": [
    "bemeno_valtozok = ['AGE', 'AME_FLAG', 'APP_SUB_TYPE', 'BILL_AMOUNT_MONTH_1',\n",
    "       'BILL_AMOUNT_MONTH_2', 'BILL_AMOUNT_MONTH_3', 'BILL_AMOUNT_MONTH_4',\n",
    "       'BILL_AMOUNT_MONTH_5', 'BILL_AMOUNT_MONTH_6', 'CARS_FLAG', 'C_PRODUCT', 'DAY_OF_PAYMENT', 'EDU_LEVEL',\n",
    "       'EMAIL_FLAG', 'HOME_PHONE_FLAG', 'L_BALANCE', 'MATE_PROF_CODE',\n",
    "       'MCARD_FLAG', 'MONTHS_IN_RES', 'M_IN_THE_JOB', 'M_STATUS', 'NAT',\n",
    "       'NUMBERO_OF_BANK_ACCOUNTS', 'NUMBER_OF_DEPENDANTS',\n",
    "       'NUMBER_OF_SPECIAL_BANK_ACCOUNTS', 'OCARDS_FLAG', 'OCC_TYPE',\n",
    "       'O_INCOMES', 'PAY_AMOUNT_MONTH_1', 'PAY_AMOUNT_MONTH_2',\n",
    "       'PAY_AMOUNT_MONTH_3', 'PAY_AMOUNT_MONTH_4', 'PAY_AMOUNT_MONTH_5',\n",
    "       'PAY_AMOUNT_MONTH_6', 'PAY_MONTH_0', 'PAY_MONTH_2', 'PAY_MONTH_3',\n",
    "       'PAY_MONTH_4', 'PAY_MONTH_5', 'PAY_MONTH_6', 'P_ADDRESS_TYPE', 'P_ASSETS_VALUE',\n",
    "       'P_MONTHLY_INCOME', 'RES_TYPE', 'SEX', 'S_FLAG', \n",
    "       'VISA_FLAG']"
   ]
  },
  {
   "cell_type": "code",
   "execution_count": 114,
   "metadata": {},
   "outputs": [],
   "source": [
    "object_valtozok = []\n",
    "uj_valtozok = []\n",
    "for att in bemeno_valtozok:\n",
    "    if df[att].dtype == 'object':\n",
    "        df, val = limitalt_dummy_valtozo(df, att, 6)\n",
    "        object_valtozok.append(att)\n",
    "        uj_valtozok.extend(val)"
   ]
  },
  {
   "cell_type": "code",
   "execution_count": 115,
   "metadata": {},
   "outputs": [],
   "source": [
    "bemeno_valtozok = bemeno_valtozok + uj_valtozok\n",
    "bemeno_valtozok = [val for val in bemeno_valtozok if val not in object_valtozok]"
   ]
  },
  {
   "cell_type": "code",
   "execution_count": 116,
   "metadata": {},
   "outputs": [
    {
     "data": {
      "text/plain": [
       "['AGE',\n",
       " 'AME_FLAG',\n",
       " 'BILL_AMOUNT_MONTH_1',\n",
       " 'BILL_AMOUNT_MONTH_2',\n",
       " 'BILL_AMOUNT_MONTH_3',\n",
       " 'BILL_AMOUNT_MONTH_4',\n",
       " 'BILL_AMOUNT_MONTH_5',\n",
       " 'BILL_AMOUNT_MONTH_6',\n",
       " 'CARS_FLAG',\n",
       " 'C_PRODUCT',\n",
       " 'DAY_OF_PAYMENT',\n",
       " 'EDU_LEVEL',\n",
       " 'EMAIL_FLAG',\n",
       " 'L_BALANCE',\n",
       " 'MCARD_FLAG',\n",
       " 'MONTHS_IN_RES',\n",
       " 'M_IN_THE_JOB',\n",
       " 'M_STATUS',\n",
       " 'NAT',\n",
       " 'NUMBERO_OF_BANK_ACCOUNTS',\n",
       " 'NUMBER_OF_DEPENDANTS',\n",
       " 'NUMBER_OF_SPECIAL_BANK_ACCOUNTS',\n",
       " 'OCARDS_FLAG',\n",
       " 'O_INCOMES',\n",
       " 'PAY_AMOUNT_MONTH_1',\n",
       " 'PAY_AMOUNT_MONTH_2',\n",
       " 'PAY_AMOUNT_MONTH_3',\n",
       " 'PAY_AMOUNT_MONTH_4',\n",
       " 'PAY_AMOUNT_MONTH_5',\n",
       " 'PAY_AMOUNT_MONTH_6',\n",
       " 'PAY_MONTH_0',\n",
       " 'PAY_MONTH_2',\n",
       " 'PAY_MONTH_3',\n",
       " 'PAY_MONTH_4',\n",
       " 'PAY_MONTH_5',\n",
       " 'PAY_MONTH_6',\n",
       " 'P_ASSETS_VALUE',\n",
       " 'P_MONTHLY_INCOME',\n",
       " 'RES_TYPE',\n",
       " 'S_FLAG',\n",
       " 'VISA_FLAG',\n",
       " 'APP_SUB_TYPE=W',\n",
       " 'APP_SUB_TYPE=Z',\n",
       " 'APP_SUB_TYPE=C',\n",
       " 'HOME_PHONE_FLAG=yes',\n",
       " 'HOME_PHONE_FLAG=no',\n",
       " 'MATE_PROF_CODE=nincs_adat',\n",
       " 'MATE_PROF_CODE=0.0',\n",
       " 'MATE_PROF_CODE=11.0',\n",
       " 'MATE_PROF_CODE=9.0',\n",
       " 'MATE_PROF_CODE=16.0',\n",
       " 'MATE_PROF_CODE=2.0',\n",
       " 'OCC_TYPE=2.0',\n",
       " 'OCC_TYPE=1.0',\n",
       " 'OCC_TYPE=nincs_adat',\n",
       " 'OCC_TYPE=4.0',\n",
       " 'OCC_TYPE=5.0',\n",
       " 'OCC_TYPE=0.0',\n",
       " 'P_ADDRESS_TYPE=A',\n",
       " 'P_ADDRESS_TYPE=B',\n",
       " 'SEX=female',\n",
       " 'SEX=male',\n",
       " 'SEX=nincs_adat']"
      ]
     },
     "execution_count": 116,
     "metadata": {},
     "output_type": "execute_result"
    }
   ],
   "source": [
    "bemeno_valtozok"
   ]
  },
  {
   "cell_type": "markdown",
   "metadata": {},
   "source": [
    "## Modellezés"
   ]
  },
  {
   "cell_type": "code",
   "execution_count": 117,
   "metadata": {},
   "outputs": [],
   "source": [
    "train_df = df[df['train_or_test'] == 'train'].copy()\n",
    "test_df = df[df['train_or_test'] == 'test'].copy()"
   ]
  },
  {
   "cell_type": "code",
   "execution_count": 118,
   "metadata": {},
   "outputs": [
    {
     "data": {
      "text/plain": [
       "Index(['AGE', 'AME_FLAG', 'APP_SUB_TYPE', 'BILL_AMOUNT_MONTH_1',\n",
       "       'BILL_AMOUNT_MONTH_2', 'BILL_AMOUNT_MONTH_3', 'BILL_AMOUNT_MONTH_4',\n",
       "       'BILL_AMOUNT_MONTH_5', 'BILL_AMOUNT_MONTH_6', 'BIRTH_CITY',\n",
       "       'BIRTH_STATE', 'CARS_FLAG', 'CONF_CITIZEN_CARD_NUM', 'CONF_TAX_STATUS',\n",
       "       'C_NAME_GIVEN', 'C_PRODUCT', 'DAY_OF_PAYMENT', 'EDU_LEVEL',\n",
       "       'EMAIL_FLAG', 'HOME_PHONE_FLAG', 'ID', 'L_BALANCE', 'MATE_PROF_CODE',\n",
       "       'MCARD_FLAG', 'MONTHS_IN_RES', 'M_IN_THE_JOB', 'M_STATUS', 'NAT',\n",
       "       'NUMBERO_OF_BANK_ACCOUNTS', 'NUMBER_OF_DEPENDANTS',\n",
       "       'NUMBER_OF_SPECIAL_BANK_ACCOUNTS', 'OCARDS_FLAG', 'OCC_TYPE',\n",
       "       'O_INCOMES', 'PAY_AMOUNT_MONTH_1', 'PAY_AMOUNT_MONTH_2',\n",
       "       'PAY_AMOUNT_MONTH_3', 'PAY_AMOUNT_MONTH_4', 'PAY_AMOUNT_MONTH_5',\n",
       "       'PAY_AMOUNT_MONTH_6', 'PAY_MONTH_0', 'PAY_MONTH_2', 'PAY_MONTH_3',\n",
       "       'PAY_MONTH_4', 'PAY_MONTH_5', 'PAY_MONTH_6', 'PROF_BOROUGH',\n",
       "       'PROF_CITY', 'PROF_CODE', 'PROF_PHONE_AREA_CODE', 'PROF_PHONE_GIVEN',\n",
       "       'PROF_STATE', 'PROF_ZIP', 'P_ADDRESS_TYPE', 'P_ASSETS_VALUE',\n",
       "       'P_MONTHLY_INCOME', 'RES_BOROUGH', 'RES_CITY', 'RES_PHONE_AREA_CODE',\n",
       "       'RES_STATE', 'RES_TYPE', 'RES_ZIP', 'SEX', 'S_FLAG', 'TARGET',\n",
       "       'VISA_FLAG', 'train_or_test', 'APP_SUB_TYPE=W', 'APP_SUB_TYPE=Z',\n",
       "       'APP_SUB_TYPE=C', 'HOME_PHONE_FLAG=yes', 'HOME_PHONE_FLAG=no',\n",
       "       'MATE_PROF_CODE=nincs_adat', 'MATE_PROF_CODE=0.0',\n",
       "       'MATE_PROF_CODE=11.0', 'MATE_PROF_CODE=9.0', 'MATE_PROF_CODE=16.0',\n",
       "       'MATE_PROF_CODE=2.0', 'OCC_TYPE=2.0', 'OCC_TYPE=1.0',\n",
       "       'OCC_TYPE=nincs_adat', 'OCC_TYPE=4.0', 'OCC_TYPE=5.0', 'OCC_TYPE=0.0',\n",
       "       'P_ADDRESS_TYPE=A', 'P_ADDRESS_TYPE=B', 'SEX=female', 'SEX=male',\n",
       "       'SEX=nincs_adat'],\n",
       "      dtype='object')"
      ]
     },
     "execution_count": 118,
     "metadata": {},
     "output_type": "execute_result"
    }
   ],
   "source": [
    "train_df.columns"
   ]
  },
  {
   "cell_type": "code",
   "execution_count": 119,
   "metadata": {},
   "outputs": [],
   "source": [
    "# model3\n",
    "from sklearn.ensemble import RandomForestClassifier\n",
    "model3 = RandomForestClassifier(random_state=42, n_estimators=300, max_depth=15)\n",
    "model3.fit(train_df[bemeno_valtozok], train_df['TARGET'])\n",
    "prediction_rfc = model3.predict_proba(test_df[bemeno_valtozok])"
   ]
  },
  {
   "cell_type": "code",
   "execution_count": 120,
   "metadata": {},
   "outputs": [
    {
     "data": {
      "text/plain": [
       "array([[0.75284677, 0.24715323],\n",
       "       [0.69588454, 0.30411546],\n",
       "       [0.49202072, 0.50797928],\n",
       "       ...,\n",
       "       [0.61663784, 0.38336216],\n",
       "       [0.43216475, 0.56783525],\n",
       "       [0.57744462, 0.42255538]])"
      ]
     },
     "execution_count": 120,
     "metadata": {},
     "output_type": "execute_result"
    }
   ],
   "source": [
    "prediction_rfc"
   ]
  },
  {
   "cell_type": "code",
   "execution_count": 121,
   "metadata": {},
   "outputs": [],
   "source": [
    "# model4\n",
    "from sklearn.ensemble import GradientBoostingClassifier\n",
    "model4 = GradientBoostingClassifier(random_state=42, n_estimators=150, max_depth=10)\n",
    "model4.fit(train_df[bemeno_valtozok], train_df['TARGET'])\n",
    "prediction_gbc = model4.predict_proba(test_df[bemeno_valtozok])"
   ]
  },
  {
   "cell_type": "code",
   "execution_count": 122,
   "metadata": {},
   "outputs": [
    {
     "data": {
      "text/plain": [
       "array([[0.84404847, 0.15595153],\n",
       "       [0.60986941, 0.39013059],\n",
       "       [0.09964556, 0.90035444],\n",
       "       ...,\n",
       "       [0.63343578, 0.36656422],\n",
       "       [0.2161612 , 0.7838388 ],\n",
       "       [0.88040804, 0.11959196]])"
      ]
     },
     "execution_count": 122,
     "metadata": {},
     "output_type": "execute_result"
    }
   ],
   "source": [
    "prediction_gbc"
   ]
  },
  {
   "cell_type": "code",
   "execution_count": 123,
   "metadata": {},
   "outputs": [],
   "source": [
    "rfc_p1 = prediction_rfc[:, 1]\n",
    "gbc_p1 = prediction_gbc[:, 1]"
   ]
  },
  {
   "cell_type": "code",
   "execution_count": 124,
   "metadata": {},
   "outputs": [],
   "source": [
    "a = np.array([rfc_p1, gbc_p1])"
   ]
  },
  {
   "cell_type": "code",
   "execution_count": 125,
   "metadata": {},
   "outputs": [
    {
     "data": {
      "text/plain": [
       "array([[0.24715323, 0.30411546, 0.50797928, ..., 0.38336216, 0.56783525,\n",
       "        0.42255538],\n",
       "       [0.15595153, 0.39013059, 0.90035444, ..., 0.36656422, 0.7838388 ,\n",
       "        0.11959196]])"
      ]
     },
     "execution_count": 125,
     "metadata": {},
     "output_type": "execute_result"
    }
   ],
   "source": [
    "a"
   ]
  },
  {
   "cell_type": "code",
   "execution_count": 126,
   "metadata": {},
   "outputs": [],
   "source": [
    "b = np.mean(a, axis=0)"
   ]
  },
  {
   "cell_type": "code",
   "execution_count": 127,
   "metadata": {},
   "outputs": [],
   "source": [
    "test_df['mean_p1'] = b"
   ]
  },
  {
   "cell_type": "code",
   "execution_count": 101,
   "metadata": {},
   "outputs": [],
   "source": [
    "submission_df = test_df[['ID', 'mean_p1']]\n",
    "submission_df.columns = ['Id', 'Predicted']\n",
    "submission_df.to_csv('proba8.csv', index=False)"
   ]
  },
  {
   "cell_type": "code",
   "execution_count": 133,
   "metadata": {},
   "outputs": [
    {
     "data": {
      "text/plain": [
       "0.7486386563717712"
      ]
     },
     "execution_count": 133,
     "metadata": {},
     "output_type": "execute_result"
    }
   ],
   "source": [
    "myxval_multi([model3, model4], train_df, bemeno_valtozok)"
   ]
  }
 ],
 "metadata": {
  "kernelspec": {
   "display_name": "Python 3",
   "language": "python",
   "name": "python3"
  },
  "language_info": {
   "codemirror_mode": {
    "name": "ipython",
    "version": 3
   },
   "file_extension": ".py",
   "mimetype": "text/x-python",
   "name": "python",
   "nbconvert_exporter": "python",
   "pygments_lexer": "ipython3",
   "version": "3.8.2"
  }
 },
 "nbformat": 4,
 "nbformat_minor": 4
}
