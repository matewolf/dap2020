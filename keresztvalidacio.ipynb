{
 "cells": [
  {
   "cell_type": "code",
   "execution_count": 1,
   "metadata": {},
   "outputs": [],
   "source": [
    "import pandas as pd"
   ]
  },
  {
   "cell_type": "markdown",
   "metadata": {},
   "source": [
    "# Több modelles keresztvalidáció"
   ]
  },
  {
   "cell_type": "code",
   "execution_count": null,
   "metadata": {},
   "outputs": [],
   "source": [
    "def myxval(models,train_df,bemeno_valtozok,fold_num=3):\n",
    "    train_df['xval']=train_df['ID']%fold_num\n",
    "    mean_auc_list=[]\n",
    "    for i in range(fold_num):\n",
    "        mini_train=train_df[train_df['xval']!=i].copy()\n",
    "        mini_test=train_df[train_df['xval']==i].copy()\n",
    "        for model in models:\n",
    "            auc_list = []\n",
    "            model.fit(mini_train[bemeno_valtozok],mini_train['TARGET'])\n",
    "            mini_test['p1']=model.predict_proba(mini_test[bemeno_valtozok])[:,1]\n",
    "            auc=roc_auc_score(mini_test['TARGET'],mini_test['p1'])\n",
    "            auc_list.appendnd(auc)\n",
    "        mean_auc = np.mean(auc_list)\n",
    "        mean_auc_list.append(mean_auc)\n",
    "    return np.mean(mean_auc_list)"
   ]
  }
 ],
 "metadata": {
  "kernelspec": {
   "display_name": "Python 3",
   "language": "python",
   "name": "python3"
  },
  "language_info": {
   "codemirror_mode": {
    "name": "ipython",
    "version": 3
   },
   "file_extension": ".py",
   "mimetype": "text/x-python",
   "name": "python",
   "nbconvert_exporter": "python",
   "pygments_lexer": "ipython3",
   "version": "3.8.2"
  }
 },
 "nbformat": 4,
 "nbformat_minor": 4
}
